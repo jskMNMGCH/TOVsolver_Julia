{
 "cells": [
  {
   "cell_type": "code",
   "execution_count": 1,
   "id": "ad3cd8ec-e91e-4dc3-a227-e2a6b6418160",
   "metadata": {},
   "outputs": [],
   "source": [
    "using Plots\n",
    "using LaTeXStrings\n",
    "using FilePathsBase\n",
    "using Dates"
   ]
  },
  {
   "cell_type": "code",
   "execution_count": 2,
   "id": "d60c8da0-ee42-4396-b9c9-48029f822736",
   "metadata": {},
   "outputs": [
    {
     "name": "stdout",
     "output_type": "stream",
     "text": [
      "length scale: 1.0 cm\n",
      "energy density scale: 1.2102591909632933e49 g/cm^3\n",
      "energy density scale: 6.789056165277286e33 GeV/fm^3\n"
     ]
    }
   ],
   "source": [
    "include(\"src/constants.jl\")\n",
    "include(\"src/main.jl\")\n",
    "include(\"src/solver_code.jl\")\n",
    "using .MainModule # モジュールを使用\n",
    "using .SolverCode\n",
    "\n",
    "# Typical scale\n",
    "println(\"length scale: \", unit_l, \" cm\")\n",
    "println(\"energy density scale: \", eps_ref, \" g/cm^3\")\n",
    "println(\"energy density scale: \", eps_ref*gcm3_to_MeVfm3/1000, \" GeV/fm^3\")"
   ]
  },
  {
   "cell_type": "code",
   "execution_count": 3,
   "id": "8487e583-34b2-4cf4-b7a1-1ff8c23f4e87",
   "metadata": {},
   "outputs": [
    {
     "name": "stdout",
     "output_type": "stream",
     "text": [
      " muB (MeV)    P (MeV/fm^3)           nB/n0    e (MeV/fm^3)              cs\n"
     ]
    }
   ],
   "source": [
    "# ファイルパスを指定\n",
    "file_path = \"data/eos_HQC18_gv100H160.txt\"\n",
    "P = []\n",
    "e = []\n",
    "cs2 = [] \n",
    "# ファイルを行単位で読み込む\n",
    "lines = readlines(file_path)\n",
    "println(lines[1])\n",
    "for line in lines[2:end]\n",
    "    # 行をスペースで分割して各値を数値に変換\n",
    "    values = parse.(Float64, split(line))\n",
    "    push!(P, values[2]) \n",
    "    push!(e, values[4]) \n",
    "    push!(cs2, values[5].^2) \n",
    "end\n",
    "\n",
    "file_path2 = \"data/eos_HQC18_gv080H150.txt\"\n",
    "P2 = []\n",
    "e2 = []\n",
    "lines = readlines(file_path2)\n",
    "for line in lines[2:end]\n",
    "    values = parse.(Float64, split(line))\n",
    "    push!(P2, values[2]) \n",
    "    push!(e2, values[4])\n",
    "end\n",
    "\n",
    "file_path3 = \"data/eos_HQC18_gv050H140.txt\"\n",
    "P3 = []\n",
    "e3 = []\n",
    "lines = readlines(file_path3)\n",
    "for line in lines[2:end]\n",
    "    values = parse.(Float64, split(line))\n",
    "    push!(P3, values[2]) \n",
    "    push!(e3, values[4])\n",
    "end"
   ]
  },
  {
   "cell_type": "code",
   "execution_count": 4,
   "id": "c00f6c6b-988c-4c3c-bc1d-97ab19560537",
   "metadata": {},
   "outputs": [
    {
     "name": "stdout",
     "output_type": "stream",
     "text": [
      "386\n"
     ]
    },
    {
     "data": {
      "text/plain": [
       "\"/Users/mnmgchjsk/JupyterLab/TOV_solver_Julia/three_types_QHC18_eos.pdf\""
      ]
     },
     "execution_count": 4,
     "metadata": {},
     "output_type": "execute_result"
    }
   ],
   "source": [
    "mono_e, mono_P = MainModule.make_eos_monotonic(e, P)\n",
    "mono_e2, mono_P2 = MainModule.make_eos_monotonic(e2, P2)\n",
    "mono_e3, mono_P3 = MainModule.make_eos_monotonic(e3, P3)\n",
    "\n",
    "println(length(mono_e))\n",
    "# グラフの描画\n",
    "plot(mono_e, mono_P;\n",
    "    label=\"eos_HQC18_gv100H160\", \n",
    "    xlabel=L\"\\mathrm{Energy\\ density\\ [MeV/fm^3]}\",xlabelfontsize=16,\n",
    "    ylabel=L\"\\mathrm{Pressure\\ [MeV/fm^3]}\", ylabelfontsize=16,\n",
    "    title=\"Eos\",\n",
    "    legend=:topleft,\n",
    "    xscale=:log10,  # x軸を対数スケールに変更\n",
    "    yscale=:log10,  # y軸を対数スケールに変更)\n",
    "    xtickfontsize=12,\n",
    "    ytickfontsize=12,\n",
    "    xlims=(1,2000),\n",
    "    ylims=(1e-3, 1000),\n",
    ")\n",
    "plot!(mono_e2, mono_P2; label=splitext(basename(file_path2))[1])\n",
    "plot!(mono_e3, mono_P3; label=splitext(basename(file_path3))[1])\n",
    "# 凡例のフォントサイズを変更\n",
    "plot!(legendfontsize=11)  # 凡例のフォントサイズを指定\n",
    "savefig(\"three_types_QHC18_eos.pdf\")  # PDFファイルとして保存"
   ]
  },
  {
   "cell_type": "code",
   "execution_count": 5,
   "id": "2dca4ae0-c0dc-4b98-aec9-6c3f54c7a8ac",
   "metadata": {},
   "outputs": [
    {
     "data": {
      "text/plain": [
       "\"/Users/mnmgchjsk/JupyterLab/TOV_solver_Julia/three_types_QHC18_cs2.pdf\""
      ]
     },
     "execution_count": 5,
     "metadata": {},
     "output_type": "execute_result"
    }
   ],
   "source": [
    "plot(mono_e[2:end],\n",
    "     [(mono_P[i]-mono_P[i-1])/(mono_e[i]-mono_e[i-1]) for i in 2:length(mono_P)];\n",
    "     label=\"eos_HQC18_gv100H160\", \n",
    "     xlabel=L\"\\mathrm{Energy\\ density\\ [MeV/fm^3]}\",xlabelfontsize=16,\n",
    "     ylabel=L\"\\mathrm{c_s^2}\", ylabelfontsize=16,\n",
    "     title=\"Speed of sound\",\n",
    "     legend=:topleft,\n",
    "     xscale=:log10,  # x軸を対数スケールに変更\n",
    "     yscale=:identity,\n",
    "     xlims=(100,mono_e[end]),\n",
    "     xtickfontsize=12,\n",
    "     ytickfontsize=12,\n",
    ")\n",
    "\n",
    "plot!(mono_e2[2:end],\n",
    "     [(mono_P2[i]-mono_P2[i-1])/(mono_e2[i]-mono_e2[i-1]) for i in 2:length(mono_P2)];\n",
    "     label=splitext(basename(file_path2))[1])\n",
    "\n",
    "plot!(mono_e3[2:end],\n",
    "     [(mono_P3[i]-mono_P3[i-1])/(mono_e3[i]-mono_e3[i-1]) for i in 2:length(mono_P3)];\n",
    "     label=splitext(basename(file_path3))[1])\n",
    "# 凡例のフォントサイズを変更\n",
    "plot!(legendfontsize=11)  # 凡例のフォントサイズを指定\n",
    "savefig(\"three_types_QHC18_cs2.pdf\")  # PDFファイルとして保存"
   ]
  },
  {
   "cell_type": "code",
   "execution_count": 6,
   "id": "007756fa-152f-46f7-85fc-b7be6f13fbc1",
   "metadata": {
    "scrolled": true
   },
   "outputs": [
    {
     "name": "stdout",
     "output_type": "stream",
     "text": [
      "3.287333333333333 sec/RMT\n"
     ]
    }
   ],
   "source": [
    "start_time = now()\n",
    "RMT, sol = MainModule.out_RMT(mono_e*MeVfm3_to_gcm3/unit_g, mono_P*MeVfm3_to_gcm3/unit_g, debug=false)\n",
    "RMT2, sol2 = MainModule.out_RMT(mono_e2*MeVfm3_to_gcm3/unit_g, mono_P2*MeVfm3_to_gcm3/unit_g)\n",
    "RMT3, sol3 = MainModule.out_RMT(mono_e3*MeVfm3_to_gcm3/unit_g, mono_P3*MeVfm3_to_gcm3/unit_g)\n",
    "end_time = now()\n",
    "\n",
    "elapsed_ms = Dates.value(end_time - start_time)  # ミリ秒で取得\n",
    "elapsed_sec = elapsed_ms / 3000  # 秒に変換\n",
    "println(elapsed_sec, \" sec/RMT\")"
   ]
  },
  {
   "cell_type": "code",
   "execution_count": 7,
   "id": "fe87a548-209b-4743-a56b-0ba75acbc27f",
   "metadata": {},
   "outputs": [
    {
     "data": {
      "text/plain": [
       "\"/Users/mnmgchjsk/JupyterLab/TOV_solver_Julia/three_types_QHC18_MR.pdf\""
      ]
     },
     "execution_count": 7,
     "metadata": {},
     "output_type": "execute_result"
    }
   ],
   "source": [
    "plot(RMT[1], RMT[2]; \n",
    "    label=splitext(basename(file_path))[1],\n",
    "    legend=:topright,\n",
    "    xlabel=L\"R\\ [\\mathrm{km}]\", xlabelfontsize=16,\n",
    "    ylabel=L\"M\\ [M_\\odot]\", ylabelfontsize=16,\n",
    "    xlims=(8,16),\n",
    "    xtickfontsize=12,\n",
    "    ytickfontsize=12,\n",
    ")\n",
    "plot!(RMT2[1], RMT2[2]; label=splitext(basename(file_path2))[1])\n",
    "plot!(RMT3[1], RMT3[2]; label=splitext(basename(file_path3))[1])\n",
    "# 凡例のフォントサイズを変更\n",
    "plot!(legendfontsize=11)  # 凡例のフォントサイズを指定\n",
    "savefig(\"three_types_QHC18_MR.pdf\")  # PDFファイルとして保存"
   ]
  },
  {
   "cell_type": "code",
   "execution_count": 8,
   "id": "66355bed-ca73-478d-a5ee-796a7ce33d10",
   "metadata": {},
   "outputs": [
    {
     "data": {
      "text/plain": [
       "\"/Users/mnmgchjsk/JupyterLab/TOV_solver_Julia/three_types_QHC18_MT.pdf\""
      ]
     },
     "execution_count": 8,
     "metadata": {},
     "output_type": "execute_result"
    }
   ],
   "source": [
    "plot(RMT[3], RMT[2];\n",
    "    label=splitext(basename(file_path))[1],\n",
    "    xscale=:log10,\n",
    "    xlabel=L\"\\Lambda\", xlabelfontsize=16,\n",
    "    xticks=[10^-2, 10^-1, 1],\n",
    "    ylabel=L\"M\\ [\\mathrm{M_\\odot}]\", ylabelfontsize=16,\n",
    "    xtickfontsize=12,\n",
    "    ytickfontsize=12,\n",
    ")\n",
    "plot!(RMT2[3], RMT2[2]; label=splitext(basename(file_path2))[1])\n",
    "plot!(RMT3[3], RMT3[2]; label=splitext(basename(file_path3))[1])\n",
    "# 凡例のフォントサイズを変更\n",
    "plot!(legendfontsize=11)  # 凡例のフォントサイズを指定\n",
    "savefig(\"three_types_QHC18_MT.pdf\")  # PDFファイルとして保存"
   ]
  },
  {
   "cell_type": "code",
   "execution_count": null,
   "id": "cd8813be-f1ea-44ff-8b9b-b454ce2b33e7",
   "metadata": {},
   "outputs": [],
   "source": []
  }
 ],
 "metadata": {
  "kernelspec": {
   "display_name": "Julia 1.11.2",
   "language": "julia",
   "name": "julia-1.11"
  },
  "language_info": {
   "file_extension": ".jl",
   "mimetype": "application/julia",
   "name": "julia",
   "version": "1.11.2"
  }
 },
 "nbformat": 4,
 "nbformat_minor": 5
}
